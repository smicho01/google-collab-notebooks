{
  "nbformat": 4,
  "nbformat_minor": 0,
  "metadata": {
    "colab": {
      "provenance": [],
      "authorship_tag": "ABX9TyO7O9q3ZdN6k32U/82AXwQF",
      "include_colab_link": true
    },
    "kernelspec": {
      "name": "python3",
      "display_name": "Python 3"
    },
    "language_info": {
      "name": "python"
    }
  },
  "cells": [
    {
      "cell_type": "markdown",
      "metadata": {
        "id": "view-in-github",
        "colab_type": "text"
      },
      "source": [
        "<a href=\"https://colab.research.google.com/github/smicho01/google-collab-notebooks/blob/main/ml/w7_convolutional_neural_networks_with_keras.ipynb\" target=\"_parent\"><img src=\"https://colab.research.google.com/assets/colab-badge.svg\" alt=\"Open In Colab\"/></a>"
      ]
    },
    {
      "cell_type": "markdown",
      "source": [
        "#Convolutional Neural Networks with Keras\n",
        "\n",
        "A simple CNN for MNIST (Modified National Institute of Standards and\n",
        "Technology database) that demonstrates how to use all of the aspects of a modern CNN\n",
        "implementation, including Convolutional layers, Pooling layers and Dropout layers. The MNIST database is a large database of handwritten digits that is commonly used for training\n",
        "various image processing systems."
      ],
      "metadata": {
        "id": "MmMh2Q5C1leO"
      }
    },
    {
      "cell_type": "code",
      "source": [
        "# plot ad hoc MNIST instances\n",
        "import keras\n",
        "from keras.datasets import mnist\n",
        "import matplotlib.pyplot as plt\n",
        "# load (downloaded if needed) the MNIST dataset\n",
        "(x_train, y_train), (x_test, y_test) = keras.datasets.mnist.load_data()"
      ],
      "metadata": {
        "id": "zN1mViID1odS"
      },
      "execution_count": 3,
      "outputs": []
    }
  ]
}