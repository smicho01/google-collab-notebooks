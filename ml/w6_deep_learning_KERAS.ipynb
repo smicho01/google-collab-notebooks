{
  "nbformat": 4,
  "nbformat_minor": 0,
  "metadata": {
    "colab": {
      "provenance": [],
      "authorship_tag": "ABX9TyNCmLGac5b2+YqAtiMbwGwS",
      "include_colab_link": true
    },
    "kernelspec": {
      "name": "python3",
      "display_name": "Python 3"
    },
    "language_info": {
      "name": "python"
    }
  },
  "cells": [
    {
      "cell_type": "markdown",
      "metadata": {
        "id": "view-in-github",
        "colab_type": "text"
      },
      "source": [
        "<a href=\"https://colab.research.google.com/github/smicho01/google-collab-notebooks/blob/main/ml/w6_deep_learning_KERAS.ipynb\" target=\"_parent\"><img src=\"https://colab.research.google.com/assets/colab-badge.svg\" alt=\"Open In Colab\"/></a>"
      ]
    },
    {
      "cell_type": "markdown",
      "source": [
        "#DEEP LEARNING WITH KERAS"
      ],
      "metadata": {
        "id": "EncJc8vvZhgz"
      }
    },
    {
      "cell_type": "markdown",
      "source": [
        "##Multi-layered Perceptron (MLP)"
      ],
      "metadata": {
        "id": "ErulAIFrZm_A"
      }
    },
    {
      "cell_type": "code",
      "source": [
        "# init random num. generator\n",
        "from keras.models import Sequential\n",
        "from keras.layers import Dense\n",
        "import numpy\n",
        "# fix random seed for reproducibility\n",
        "numpy.random.seed(7)\n",
        "\n",
        "# load pima indians dataset\n",
        "dataset = numpy.loadtxt(\"pima-indians-diabetes.data.csv\", delimiter=\",\")\n",
        "# split into input and output variables\n",
        "X = dataset[:,0:8]\n",
        "Y = dataset[:,8]\n",
        "\n",
        "## Defining model\n",
        "\n",
        "### Set 1st layer input dim to 8 for the 8 input vars.\n",
        "### Dense class define fully connected layers\n",
        "\n",
        "model = Sequential()\n",
        "model.add(Dense(12, input_dim=8, activation='relu'))\n",
        "model.add(Dense(8, activation='relu'))\n",
        "model.add(Dense(1, activation='sigmoid'))\n"
      ],
      "metadata": {
        "id": "8oAyJfP3ZtsG"
      },
      "execution_count": 6,
      "outputs": []
    }
  ]
}