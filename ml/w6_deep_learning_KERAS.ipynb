{
  "nbformat": 4,
  "nbformat_minor": 0,
  "metadata": {
    "colab": {
      "provenance": [],
      "authorship_tag": "ABX9TyNrP8VqQQVjlmn8ZCHgaX1h",
      "include_colab_link": true
    },
    "kernelspec": {
      "name": "python3",
      "display_name": "Python 3"
    },
    "language_info": {
      "name": "python"
    }
  },
  "cells": [
    {
      "cell_type": "markdown",
      "metadata": {
        "id": "view-in-github",
        "colab_type": "text"
      },
      "source": [
        "<a href=\"https://colab.research.google.com/github/smicho01/google-collab-notebooks/blob/main/ml/w6_deep_learning_KERAS.ipynb\" target=\"_parent\"><img src=\"https://colab.research.google.com/assets/colab-badge.svg\" alt=\"Open In Colab\"/></a>"
      ]
    },
    {
      "cell_type": "markdown",
      "source": [
        "#DEEP LEARNING WITH KERAS"
      ],
      "metadata": {
        "id": "EncJc8vvZhgz"
      }
    },
    {
      "cell_type": "markdown",
      "source": [
        "##Multi-layered Perceptron (MLP)"
      ],
      "metadata": {
        "id": "ErulAIFrZm_A"
      }
    },
    {
      "cell_type": "code",
      "source": [
        "# init random num. generator\n",
        "from keras.models import Sequential\n",
        "from keras.layers import Dense\n",
        "import numpy\n",
        "# fix random seed for reproducibility\n",
        "numpy.random.seed(7)\n",
        "\n",
        "# load pima indians dataset\n",
        "dataset = numpy.loadtxt(\"pima-indians-diabetes.data.csv\", delimiter=\",\")\n",
        "# split into input and output variables\n",
        "X = dataset[:,0:8]\n",
        "Y = dataset[:,8]\n",
        "\n",
        "## Defining model\n",
        "\n",
        "### Set 1st layer input dim to 8 for the 8 input vars.\n",
        "### Dense class define fully connected layers\n",
        "\n",
        "model = Sequential()\n",
        "model.add(Dense(12, input_dim=8, activation='relu'))\n",
        "model.add(Dense(8, activation='relu'))\n",
        "model.add(Dense(1, activation='sigmoid'))\n",
        "\n",
        "# compile model\n",
        "model.compile(loss='binary_crossentropy', optimizer='adam', metrics=['accuracy'])\n",
        "# fit the model\n",
        "model.fit(X, Y, epochs=10, batch_size=10)\n"
      ],
      "metadata": {
        "id": "8oAyJfP3ZtsG",
        "outputId": "366d8923-beda-48a0-be04-e53135e003ff",
        "colab": {
          "base_uri": "https://localhost:8080/"
        }
      },
      "execution_count": 8,
      "outputs": [
        {
          "output_type": "stream",
          "name": "stdout",
          "text": [
            "Epoch 1/10\n",
            "77/77 [==============================] - 3s 5ms/step - loss: 2.0196 - accuracy: 0.6250\n",
            "Epoch 2/10\n",
            "77/77 [==============================] - 0s 5ms/step - loss: 1.1479 - accuracy: 0.6211\n",
            "Epoch 3/10\n",
            "77/77 [==============================] - 0s 3ms/step - loss: 0.8816 - accuracy: 0.6237\n",
            "Epoch 4/10\n",
            "77/77 [==============================] - 0s 3ms/step - loss: 0.7804 - accuracy: 0.6458\n",
            "Epoch 5/10\n",
            "77/77 [==============================] - 0s 3ms/step - loss: 0.7227 - accuracy: 0.6628\n",
            "Epoch 6/10\n",
            "77/77 [==============================] - 0s 3ms/step - loss: 0.7041 - accuracy: 0.6654\n",
            "Epoch 7/10\n",
            "77/77 [==============================] - 0s 3ms/step - loss: 0.6694 - accuracy: 0.6849\n",
            "Epoch 8/10\n",
            "77/77 [==============================] - 0s 3ms/step - loss: 0.6560 - accuracy: 0.6732\n",
            "Epoch 9/10\n",
            "77/77 [==============================] - 0s 3ms/step - loss: 0.6883 - accuracy: 0.6784\n",
            "Epoch 10/10\n",
            "77/77 [==============================] - 0s 4ms/step - loss: 0.6529 - accuracy: 0.6953\n"
          ]
        },
        {
          "output_type": "execute_result",
          "data": {
            "text/plain": [
              "<keras.src.callbacks.History at 0x7c361c4b76a0>"
            ]
          },
          "metadata": {},
          "execution_count": 8
        }
      ]
    }
  ]
}