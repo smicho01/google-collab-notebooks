{
  "nbformat": 4,
  "nbformat_minor": 0,
  "metadata": {
    "colab": {
      "provenance": [],
      "authorship_tag": "ABX9TyMdD2RniF8iBKtc/3PufNDq",
      "include_colab_link": true
    },
    "kernelspec": {
      "name": "python3",
      "display_name": "Python 3"
    },
    "language_info": {
      "name": "python"
    }
  },
  "cells": [
    {
      "cell_type": "markdown",
      "metadata": {
        "id": "view-in-github",
        "colab_type": "text"
      },
      "source": [
        "<a href=\"https://colab.research.google.com/github/smicho01/google-collab-notebooks/blob/main/ml/w2_preparing_data.ipynb\" target=\"_parent\"><img src=\"https://colab.research.google.com/assets/colab-badge.svg\" alt=\"Open In Colab\"/></a>"
      ]
    },
    {
      "cell_type": "markdown",
      "source": [
        "# Preparing Data"
      ],
      "metadata": {
        "id": "9lD2wun5kWCo"
      }
    },
    {
      "cell_type": "markdown",
      "source": [
        "### Visualisation"
      ],
      "metadata": {
        "id": "OQwrOW14kb1T"
      }
    },
    {
      "cell_type": "markdown",
      "source": [
        "####Univariate plots"
      ],
      "metadata": {
        "id": "feMVL15fkkM6"
      }
    },
    {
      "cell_type": "code",
      "source": [],
      "metadata": {
        "id": "wIt0U4qIkk3a"
      },
      "execution_count": null,
      "outputs": []
    }
  ]
}